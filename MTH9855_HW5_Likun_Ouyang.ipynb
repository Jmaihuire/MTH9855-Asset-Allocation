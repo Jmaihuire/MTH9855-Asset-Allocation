{
 "cells": [
  {
   "cell_type": "markdown",
   "metadata": {},
   "source": [
    "# MTH9855 Homework Five\n",
    "## Likun Ouyang\n",
    "### March 20, 2018 Spring"
   ]
  },
  {
   "cell_type": "markdown",
   "metadata": {},
   "source": [
    "# 5.1\n",
    "(a) Calculate the historical (regressed, no intercept) beta, for each of these\n",
    "assets as of Dec 31, 2014. In each case, calculate the appropriate t-statistic\n",
    "on the coefficient to test the null hypothesis $\\beta$ = 0 and state whether you\n",
    "reject the null hypothesis.\n",
    "\n",
    "## Ans:\n",
    "All betas for 3 assets are significant to reject the null hypothesis $\\beta$ = 0 regarding t-statistic\n",
    "$$\\beta_{IBM}=0.907$$\n",
    "$$\\beta_{AAPL}=1.136$$\n",
    "$$\\beta_{TSLA}=1.310$$"
   ]
  },
  {
   "cell_type": "code",
   "execution_count": 1,
   "metadata": {},
   "outputs": [
    {
     "name": "stderr",
     "output_type": "stream",
     "text": [
      "C:\\Users\\Carter\\Anaconda3\\lib\\site-packages\\statsmodels\\compat\\pandas.py:56: FutureWarning: The pandas.core.datetools module is deprecated and will be removed in a future version. Please use the pandas.tseries module instead.\n",
      "  from pandas.core import datetools\n"
     ]
    }
   ],
   "source": [
    "import pandas as pd\n",
    "import numpy as np\n",
    "import statsmodels.api as sm\n",
    "from scipy import stats\n",
    "import matplotlib.pyplot as plt"
   ]
  },
  {
   "cell_type": "code",
   "execution_count": 2,
   "metadata": {
    "collapsed": true
   },
   "outputs": [],
   "source": [
    "data = pd.read_csv(\"BetaExample.txt\",sep=\"|\")\n",
    "data[\"DATE\"] = pd.to_datetime(data[\"DATE\"])"
   ]
  },
  {
   "cell_type": "code",
   "execution_count": 3,
   "metadata": {
    "collapsed": true
   },
   "outputs": [],
   "source": [
    "data_a = data[data[\"DATE\"]<=\"2014-12-31\"]"
   ]
  },
  {
   "cell_type": "code",
   "execution_count": 4,
   "metadata": {
    "collapsed": true
   },
   "outputs": [],
   "source": [
    "IBM = data_a[data_a.TICKER == \"IBM\"]\n",
    "AAPL = data_a[data_a.TICKER == \"AAPL\"]\n",
    "TSLA = data_a[data_a.TICKER == \"TSLA\"]\n",
    "#drop those NaN rows\n",
    "TSLA = TSLA[-TSLA.R.isnull()]"
   ]
  },
  {
   "cell_type": "code",
   "execution_count": 5,
   "metadata": {},
   "outputs": [
    {
     "data": {
      "text/html": [
       "<table class=\"simpletable\">\n",
       "<caption>OLS Regression Results</caption>\n",
       "<tr>\n",
       "  <th>Dep. Variable:</th>            <td>y</td>        <th>  R-squared:         </th>  <td>   0.332</td> \n",
       "</tr>\n",
       "<tr>\n",
       "  <th>Model:</th>                   <td>OLS</td>       <th>  Adj. R-squared:    </th>  <td>   0.332</td> \n",
       "</tr>\n",
       "<tr>\n",
       "  <th>Method:</th>             <td>Least Squares</td>  <th>  F-statistic:       </th>  <td>   3133.</td> \n",
       "</tr>\n",
       "<tr>\n",
       "  <th>Date:</th>             <td>Tue, 20 Mar 2018</td> <th>  Prob (F-statistic):</th>   <td>  0.00</td>  \n",
       "</tr>\n",
       "<tr>\n",
       "  <th>Time:</th>                 <td>14:39:34</td>     <th>  Log-Likelihood:    </th>  <td>  17657.</td> \n",
       "</tr>\n",
       "<tr>\n",
       "  <th>No. Observations:</th>      <td>  6301</td>      <th>  AIC:               </th> <td>-3.531e+04</td>\n",
       "</tr>\n",
       "<tr>\n",
       "  <th>Df Residuals:</th>          <td>  6300</td>      <th>  BIC:               </th> <td>-3.531e+04</td>\n",
       "</tr>\n",
       "<tr>\n",
       "  <th>Df Model:</th>              <td>     1</td>      <th>                     </th>      <td> </td>    \n",
       "</tr>\n",
       "<tr>\n",
       "  <th>Covariance Type:</th>      <td>nonrobust</td>    <th>                     </th>      <td> </td>    \n",
       "</tr>\n",
       "</table>\n",
       "<table class=\"simpletable\">\n",
       "<tr>\n",
       "   <td></td>     <th>coef</th>     <th>std err</th>      <th>t</th>      <th>P>|t|</th>  <th>[0.025</th>    <th>0.975]</th>  \n",
       "</tr>\n",
       "<tr>\n",
       "  <th>x1</th> <td>    0.9067</td> <td>    0.016</td> <td>   55.970</td> <td> 0.000</td> <td>    0.875</td> <td>    0.938</td>\n",
       "</tr>\n",
       "</table>\n",
       "<table class=\"simpletable\">\n",
       "<tr>\n",
       "  <th>Omnibus:</th>       <td>1227.530</td> <th>  Durbin-Watson:     </th> <td>   1.964</td> \n",
       "</tr>\n",
       "<tr>\n",
       "  <th>Prob(Omnibus):</th>  <td> 0.000</td>  <th>  Jarque-Bera (JB):  </th> <td>34867.449</td>\n",
       "</tr>\n",
       "<tr>\n",
       "  <th>Skew:</th>           <td> 0.179</td>  <th>  Prob(JB):          </th> <td>    0.00</td> \n",
       "</tr>\n",
       "<tr>\n",
       "  <th>Kurtosis:</th>       <td>14.519</td>  <th>  Cond. No.          </th> <td>    1.00</td> \n",
       "</tr>\n",
       "</table>"
      ],
      "text/plain": [
       "<class 'statsmodels.iolib.summary.Summary'>\n",
       "\"\"\"\n",
       "                            OLS Regression Results                            \n",
       "==============================================================================\n",
       "Dep. Variable:                      y   R-squared:                       0.332\n",
       "Model:                            OLS   Adj. R-squared:                  0.332\n",
       "Method:                 Least Squares   F-statistic:                     3133.\n",
       "Date:                Tue, 20 Mar 2018   Prob (F-statistic):               0.00\n",
       "Time:                        14:39:34   Log-Likelihood:                 17657.\n",
       "No. Observations:                6301   AIC:                        -3.531e+04\n",
       "Df Residuals:                    6300   BIC:                        -3.531e+04\n",
       "Df Model:                           1                                         \n",
       "Covariance Type:            nonrobust                                         \n",
       "==============================================================================\n",
       "                 coef    std err          t      P>|t|      [0.025      0.975]\n",
       "------------------------------------------------------------------------------\n",
       "x1             0.9067      0.016     55.970      0.000       0.875       0.938\n",
       "==============================================================================\n",
       "Omnibus:                     1227.530   Durbin-Watson:                   1.964\n",
       "Prob(Omnibus):                  0.000   Jarque-Bera (JB):            34867.449\n",
       "Skew:                           0.179   Prob(JB):                         0.00\n",
       "Kurtosis:                      14.519   Cond. No.                         1.00\n",
       "==============================================================================\n",
       "\n",
       "Warnings:\n",
       "[1] Standard Errors assume that the covariance matrix of the errors is correctly specified.\n",
       "\"\"\""
      ]
     },
     "execution_count": 5,
     "metadata": {},
     "output_type": "execute_result"
    }
   ],
   "source": [
    "IMB_fitted = sm.OLS(IBM.R.values.reshape(-1, 1),IBM.RM.values.reshape(-1, 1)).fit()\n",
    "IMB_fitted.summary()"
   ]
  },
  {
   "cell_type": "code",
   "execution_count": 6,
   "metadata": {},
   "outputs": [
    {
     "data": {
      "text/html": [
       "<table class=\"simpletable\">\n",
       "<caption>OLS Regression Results</caption>\n",
       "<tr>\n",
       "  <th>Dep. Variable:</th>            <td>y</td>        <th>  R-squared:         </th>  <td>   0.192</td> \n",
       "</tr>\n",
       "<tr>\n",
       "  <th>Model:</th>                   <td>OLS</td>       <th>  Adj. R-squared:    </th>  <td>   0.192</td> \n",
       "</tr>\n",
       "<tr>\n",
       "  <th>Method:</th>             <td>Least Squares</td>  <th>  F-statistic:       </th>  <td>   1500.</td> \n",
       "</tr>\n",
       "<tr>\n",
       "  <th>Date:</th>             <td>Tue, 20 Mar 2018</td> <th>  Prob (F-statistic):</th>  <td>1.61e-294</td>\n",
       "</tr>\n",
       "<tr>\n",
       "  <th>Time:</th>                 <td>14:39:34</td>     <th>  Log-Likelihood:    </th>  <td>  13915.</td> \n",
       "</tr>\n",
       "<tr>\n",
       "  <th>No. Observations:</th>      <td>  6301</td>      <th>  AIC:               </th> <td>-2.783e+04</td>\n",
       "</tr>\n",
       "<tr>\n",
       "  <th>Df Residuals:</th>          <td>  6300</td>      <th>  BIC:               </th> <td>-2.782e+04</td>\n",
       "</tr>\n",
       "<tr>\n",
       "  <th>Df Model:</th>              <td>     1</td>      <th>                     </th>      <td> </td>    \n",
       "</tr>\n",
       "<tr>\n",
       "  <th>Covariance Type:</th>      <td>nonrobust</td>    <th>                     </th>      <td> </td>    \n",
       "</tr>\n",
       "</table>\n",
       "<table class=\"simpletable\">\n",
       "<tr>\n",
       "   <td></td>     <th>coef</th>     <th>std err</th>      <th>t</th>      <th>P>|t|</th>  <th>[0.025</th>    <th>0.975]</th>  \n",
       "</tr>\n",
       "<tr>\n",
       "  <th>x1</th> <td>    1.1363</td> <td>    0.029</td> <td>   38.728</td> <td> 0.000</td> <td>    1.079</td> <td>    1.194</td>\n",
       "</tr>\n",
       "</table>\n",
       "<table class=\"simpletable\">\n",
       "<tr>\n",
       "  <th>Omnibus:</th>       <td>1964.903</td> <th>  Durbin-Watson:     </th>  <td>   1.980</td> \n",
       "</tr>\n",
       "<tr>\n",
       "  <th>Prob(Omnibus):</th>  <td> 0.000</td>  <th>  Jarque-Bera (JB):  </th> <td>232261.428</td>\n",
       "</tr>\n",
       "<tr>\n",
       "  <th>Skew:</th>           <td>-0.417</td>  <th>  Prob(JB):          </th>  <td>    0.00</td> \n",
       "</tr>\n",
       "<tr>\n",
       "  <th>Kurtosis:</th>       <td>32.732</td>  <th>  Cond. No.          </th>  <td>    1.00</td> \n",
       "</tr>\n",
       "</table>"
      ],
      "text/plain": [
       "<class 'statsmodels.iolib.summary.Summary'>\n",
       "\"\"\"\n",
       "                            OLS Regression Results                            \n",
       "==============================================================================\n",
       "Dep. Variable:                      y   R-squared:                       0.192\n",
       "Model:                            OLS   Adj. R-squared:                  0.192\n",
       "Method:                 Least Squares   F-statistic:                     1500.\n",
       "Date:                Tue, 20 Mar 2018   Prob (F-statistic):          1.61e-294\n",
       "Time:                        14:39:34   Log-Likelihood:                 13915.\n",
       "No. Observations:                6301   AIC:                        -2.783e+04\n",
       "Df Residuals:                    6300   BIC:                        -2.782e+04\n",
       "Df Model:                           1                                         \n",
       "Covariance Type:            nonrobust                                         \n",
       "==============================================================================\n",
       "                 coef    std err          t      P>|t|      [0.025      0.975]\n",
       "------------------------------------------------------------------------------\n",
       "x1             1.1363      0.029     38.728      0.000       1.079       1.194\n",
       "==============================================================================\n",
       "Omnibus:                     1964.903   Durbin-Watson:                   1.980\n",
       "Prob(Omnibus):                  0.000   Jarque-Bera (JB):           232261.428\n",
       "Skew:                          -0.417   Prob(JB):                         0.00\n",
       "Kurtosis:                      32.732   Cond. No.                         1.00\n",
       "==============================================================================\n",
       "\n",
       "Warnings:\n",
       "[1] Standard Errors assume that the covariance matrix of the errors is correctly specified.\n",
       "\"\"\""
      ]
     },
     "execution_count": 6,
     "metadata": {},
     "output_type": "execute_result"
    }
   ],
   "source": [
    "AAPL_fitted = sm.OLS(AAPL.R.values.reshape(-1, 1),AAPL.RM.values.reshape(-1, 1)).fit()\n",
    "AAPL_fitted.summary()"
   ]
  },
  {
   "cell_type": "code",
   "execution_count": 7,
   "metadata": {},
   "outputs": [
    {
     "data": {
      "text/html": [
       "<table class=\"simpletable\">\n",
       "<caption>OLS Regression Results</caption>\n",
       "<tr>\n",
       "  <th>Dep. Variable:</th>            <td>y</td>        <th>  R-squared:         </th> <td>   0.122</td>\n",
       "</tr>\n",
       "<tr>\n",
       "  <th>Model:</th>                   <td>OLS</td>       <th>  Adj. R-squared:    </th> <td>   0.121</td>\n",
       "</tr>\n",
       "<tr>\n",
       "  <th>Method:</th>             <td>Least Squares</td>  <th>  F-statistic:       </th> <td>   157.4</td>\n",
       "</tr>\n",
       "<tr>\n",
       "  <th>Date:</th>             <td>Tue, 20 Mar 2018</td> <th>  Prob (F-statistic):</th> <td>6.51e-34</td>\n",
       "</tr>\n",
       "<tr>\n",
       "  <th>Time:</th>                 <td>14:39:34</td>     <th>  Log-Likelihood:    </th> <td>  2219.2</td>\n",
       "</tr>\n",
       "<tr>\n",
       "  <th>No. Observations:</th>      <td>  1135</td>      <th>  AIC:               </th> <td>  -4436.</td>\n",
       "</tr>\n",
       "<tr>\n",
       "  <th>Df Residuals:</th>          <td>  1134</td>      <th>  BIC:               </th> <td>  -4431.</td>\n",
       "</tr>\n",
       "<tr>\n",
       "  <th>Df Model:</th>              <td>     1</td>      <th>                     </th>     <td> </td>   \n",
       "</tr>\n",
       "<tr>\n",
       "  <th>Covariance Type:</th>      <td>nonrobust</td>    <th>                     </th>     <td> </td>   \n",
       "</tr>\n",
       "</table>\n",
       "<table class=\"simpletable\">\n",
       "<tr>\n",
       "   <td></td>     <th>coef</th>     <th>std err</th>      <th>t</th>      <th>P>|t|</th>  <th>[0.025</th>    <th>0.975]</th>  \n",
       "</tr>\n",
       "<tr>\n",
       "  <th>x1</th> <td>    1.3101</td> <td>    0.104</td> <td>   12.548</td> <td> 0.000</td> <td>    1.105</td> <td>    1.515</td>\n",
       "</tr>\n",
       "</table>\n",
       "<table class=\"simpletable\">\n",
       "<tr>\n",
       "  <th>Omnibus:</th>       <td>262.175</td> <th>  Durbin-Watson:     </th> <td>   2.005</td>\n",
       "</tr>\n",
       "<tr>\n",
       "  <th>Prob(Omnibus):</th> <td> 0.000</td>  <th>  Jarque-Bera (JB):  </th> <td>2947.095</td>\n",
       "</tr>\n",
       "<tr>\n",
       "  <th>Skew:</th>          <td> 0.726</td>  <th>  Prob(JB):          </th> <td>    0.00</td>\n",
       "</tr>\n",
       "<tr>\n",
       "  <th>Kurtosis:</th>      <td>10.760</td>  <th>  Cond. No.          </th> <td>    1.00</td>\n",
       "</tr>\n",
       "</table>"
      ],
      "text/plain": [
       "<class 'statsmodels.iolib.summary.Summary'>\n",
       "\"\"\"\n",
       "                            OLS Regression Results                            \n",
       "==============================================================================\n",
       "Dep. Variable:                      y   R-squared:                       0.122\n",
       "Model:                            OLS   Adj. R-squared:                  0.121\n",
       "Method:                 Least Squares   F-statistic:                     157.4\n",
       "Date:                Tue, 20 Mar 2018   Prob (F-statistic):           6.51e-34\n",
       "Time:                        14:39:34   Log-Likelihood:                 2219.2\n",
       "No. Observations:                1135   AIC:                            -4436.\n",
       "Df Residuals:                    1134   BIC:                            -4431.\n",
       "Df Model:                           1                                         \n",
       "Covariance Type:            nonrobust                                         \n",
       "==============================================================================\n",
       "                 coef    std err          t      P>|t|      [0.025      0.975]\n",
       "------------------------------------------------------------------------------\n",
       "x1             1.3101      0.104     12.548      0.000       1.105       1.515\n",
       "==============================================================================\n",
       "Omnibus:                      262.175   Durbin-Watson:                   2.005\n",
       "Prob(Omnibus):                  0.000   Jarque-Bera (JB):             2947.095\n",
       "Skew:                           0.726   Prob(JB):                         0.00\n",
       "Kurtosis:                      10.760   Cond. No.                         1.00\n",
       "==============================================================================\n",
       "\n",
       "Warnings:\n",
       "[1] Standard Errors assume that the covariance matrix of the errors is correctly specified.\n",
       "\"\"\""
      ]
     },
     "execution_count": 7,
     "metadata": {},
     "output_type": "execute_result"
    }
   ],
   "source": [
    "TSLA_fitted = sm.OLS(TSLA.R.values.reshape(-1, 1),TSLA.RM.values.reshape(-1, 1)).fit()\n",
    "TSLA_fitted.summary()"
   ]
  },
  {
   "cell_type": "markdown",
   "metadata": {},
   "source": [
    "(b) Compute the holdings vector $h$ ∈ $\\mathbb{R}^3$\n",
    "for the unique portfolio which is dollarneutral\n",
    "(ie. self-financing) and which has unit exposure to AAPL and zero\n",
    "exposure to beta as of Dec 31, 2014.\n",
    "\n",
    "## Ans:\n",
    "\n",
    "We have the following equation to solve in order to compute the holding vector that satisfy all conditions.\n",
    "\n",
    "$$ h_1+h_2+h_3=0$$\n",
    "$$ h_2=1$$\n",
    "$$0.907h_1+1.136h_2+1.310h_3 = 0$$\n",
    "\n",
    "The solution is $ h  = [-0.432,  1        , -0.568]$, which means we sell 0.432 dollar IBM, sell 0.568 dollar TSLA, buy 1 dollar  AAPL"
   ]
  },
  {
   "cell_type": "code",
   "execution_count": 8,
   "metadata": {},
   "outputs": [
    {
     "name": "stdout",
     "output_type": "stream",
     "text": [
      "IBM : -0.4317617866\n",
      "AAPL : 1.0\n",
      "TSLA : -0.5682382134\n"
     ]
    }
   ],
   "source": [
    "A = np.array([[1,1,1],[0,1,0],[0.907,1.136,1.31]])\n",
    "b = np.array([0,1,0])\n",
    "h=np.linalg.solve(A,b)\n",
    "tickers=data['TICKER'].unique()\n",
    "for a,holdings in zip(tickers,h):\n",
    "    print(a,':',holdings)"
   ]
  },
  {
   "cell_type": "markdown",
   "metadata": {},
   "source": [
    "(c) Compute the daily returns of the portfolio from (b) over the period Jan 1,\n",
    "2015 to Dec 31, 2015. Assume that each day, the portfolio is rebalanced\n",
    "back to the initial holdings vector h ∈ $\\mathbb{R}^3$. Plot the cumulative sum of the\n",
    "log returns."
   ]
  },
  {
   "cell_type": "code",
   "execution_count": 9,
   "metadata": {},
   "outputs": [
    {
     "data": {
      "image/png": "[encoded data removed]",
      "text/plain": [
       "<matplotlib.figure.Figure at 0x1aaa64a1da0>"
      ]
     },
     "metadata": {},
     "output_type": "display_data"
    }
   ],
   "source": [
    "start_date = \"2015-01-01\"\n",
    "end_date = \"2015-12-31\"\n",
    "mask = (data['DATE'] > start_date) & (data['DATE'] <= end_date)\n",
    "data_c = data[mask]\n",
    "IBM_C = data_c[data_c.TICKER=='IBM'].R.values.reshape(-1,1)\n",
    "AAPL_C = data_c[data_c.TICKER=='AAPL'].R.values.reshape(-1,1)\n",
    "TSLA_C = data_c[data_c.TICKER=='TSLA'].R.values.reshape(-1,1)\n",
    "R = np.concatenate((IBM_C,AAPL_C,TSLA_C), axis=1)\n",
    "daily_return = np.dot(R,h)\n",
    "market_return = data_c[data_c.TICKER=='TSLA'].RM.values.reshape(-1,1).flatten()\n",
    "fig, ax = plt.subplots(figsize=(15,5))\n",
    "fig.autofmt_xdate()\n",
    "plt.plot(data_c[data_c.TICKER=='IBM'].DATE,np.cumsum(daily_return),data_c[data_c.TICKER=='IBM'].DATE,np.cumsum(market_return))\n",
    "plt.title(\"Cumulative sum of the log returns of the portfolio\",fontsize=20)\n",
    "plt.show()"
   ]
  },
  {
   "cell_type": "markdown",
   "metadata": {},
   "source": [
    "(d) Compute the realized correlation of the returns in part (c) to the market’s\n",
    "return. Construct a statistical test of the null hypothesis that the correlation\n",
    "is zero. Is the realized correlation significantly different from zero at\n",
    "the 95% level?\n",
    "\n",
    "## Ans:\n",
    "The realized correlation of the returns in part (c) to the market return is 0.0245.\n",
    "\n",
    "Its statistical test's p-value is 0.699, which is not significantly different from zero at 95% level."
   ]
  },
  {
   "cell_type": "code",
   "execution_count": 10,
   "metadata": {},
   "outputs": [
    {
     "data": {
      "text/plain": [
       "(0.029277171987615556, 0.64435287983432687)"
      ]
     },
     "execution_count": 10,
     "metadata": {},
     "output_type": "execute_result"
    }
   ],
   "source": [
    "from scipy.stats.stats import pearsonr\n",
    "pearsonr(market_return,daily_return)"
   ]
  },
  {
   "cell_type": "markdown",
   "metadata": {},
   "source": [
    "# 5.2\n",
    "(a) Calculate $\\mathbb{E}[h'r]$ and $\\mathbb{V}[h'r]$. Note that $\\mathbb{V}[h'r]$ can be expressed as $\\mathbb{V}[h'r] = f(\\beta, \\sigma^2\n",
    "_M) + g(\\sigma^2_1, . . . , \\sigma^2_n)$; find functions f() and g() explicitly.\n",
    "\n",
    "## Ans:\n",
    "\n",
    "$$\\mathbb{E}[h'r] = \\sum{\\frac1n\\mathbb{E}[r_i}] = \\sum{\\frac1n(\\beta\\mathbb{E}[r_M]+\\mathbb{E}[\\epsilon_i])} = \\beta \\mathbb{E}[r_M] + \\frac1n \\sum{\\mathbb{E}[\\epsilon_i]}$$\n",
    "\n",
    "$$\\mathbb{V}[h'r] = \\mathbb{V}[\\beta r_M + \\frac1n\\sum{\\epsilon_i}] = \\beta^2 \\sigma^2_M + \\frac1{n^2} \\sum{\\sigma_i^2} $$\n",
    " \n",
    "where\n",
    "$$f(\\beta,\\sigma_M^2)=\\beta^2\\sigma_M^2\n",
    "$$\n",
    "$$\n",
    "g(\\sigma_1^2,...,\\sigma_n^2)=\\frac{1}{n^2}\\sum_{i=1}^n {\\sigma_i^2}\n",
    "$$"
   ]
  },
  {
   "cell_type": "markdown",
   "metadata": {},
   "source": [
    "(b) Take $\\beta = 0.5$ and $\\sigma_M = 0.2$. Assume that each constituent fund has an\n",
    "annualized volatility target of 10% and all $\\sigma_i \\approx 0.03$. The “fraction of\n",
    "variance explained by the market” for the fund-of-funds is defined to be f /(f + g). Numerically compute and plot this fraction as a function of n\n",
    "for n = 2 . . . 30."
   ]
  },
  {
   "cell_type": "code",
   "execution_count": 11,
   "metadata": {},
   "outputs": [
    {
     "data": {
      "image/png": "[encoded data removed]",
      "text/plain": [
       "<matplotlib.figure.Figure at 0x1aaa6a95ba8>"
      ]
     },
     "metadata": {},
     "output_type": "display_data"
    }
   ],
   "source": [
    "#(b) Numerically compute and plot the“fraction of variance explained by the market” for the fund-of-funds f/(f+g)\n",
    "beta = 0.5\n",
    "sigma_m = 0.2\n",
    "sigma_i = 0.03\n",
    "f = beta**2*sigma_m**2\n",
    "n = np.arange(2,31)\n",
    "g = sigma_i**2/n\n",
    "plt.plot(n,f/(f+g))\n",
    "plt.title(\"The fraction of variance explained by the market\")\n",
    "plt.xlabel(\"n\")\n",
    "plt.show()"
   ]
  },
  {
   "cell_type": "markdown",
   "metadata": {},
   "source": [
    "(c) Take the same assumptions as (b). Further assume that each $\\epsilon_i$ has a\n",
    "Sharpe ratio of 1.5, so that $\\mathbb{E}[\\epsilon_i] = 1.5\\sigma_i$, and the market’s expected annual\n",
    "return is $\\mathbb{E}[r_M] = 0.07$. The fund-of-funds charges a fee of 0.01 on capital.\n",
    "Numerically compute and plot the Sharpe ratio, $\\mathbb{E}[h'r − 0.01]/\\sqrt{\\mathbb{V}[h'r]}$ as\n",
    "a function of n for n = 2 . . . 30. How does this change if the Sharpe ratio\n",
    "of $\\epsilon_i$\n",
    "is 2.0 rather than 1.5?\n",
    "\n",
    "## Ans:\n",
    "If the Sharpe ratio\n",
    "of $\\epsilon_i$\n",
    "is 2.0 rather than 1.5, the Sharpe ratio of the whole portfolio increase as the figure below.\n"
   ]
  },
  {
   "cell_type": "code",
   "execution_count": 12,
   "metadata": {},
   "outputs": [
    {
     "data": {
      "image/png": "[encoded data removed]",
      "text/plain": [
       "<matplotlib.figure.Figure at 0x1aaa6a95a90>"
      ]
     },
     "metadata": {},
     "output_type": "display_data"
    }
   ],
   "source": [
    "#(c) Numerically compute and plot the Sharpe ratio\n",
    "E_i = 1.5* sigma_i\n",
    "E_m = 0.07\n",
    "E_portfolio = beta*E_m + E_i\n",
    "plt.title(\"Sharpe ratio of the whole portfolio h'r\")\n",
    "plt.xlabel(\"n\")\n",
    "plt.plot(n,(E_portfolio-0.01)/np.sqrt(f+g),label=\"shape ratio of epsilon_i = 1.5\")\n",
    "E_i = 2.0* sigma_i\n",
    "E_portfolio = beta*E_m + E_i\n",
    "plt.plot(n,(E_portfolio-0.01)/np.sqrt(f+g),label=\"shape ratio of epsilon_i = 2.0\")\n",
    "leg = plt.legend(loc='best')\n",
    "plt.show()"
   ]
  },
  {
   "cell_type": "markdown",
   "metadata": {},
   "source": [
    "(d) If the fund-of-funds could simply invest in a single fund with the same\n",
    "properties as the others except that this fund has $\\beta = 0$ and $\\sigma_i = 0.1$,\n",
    "would that be better or worse, in terms of Sharpe ratio, than the above\n",
    "scenario?\n",
    "\n",
    "## Ans:\n",
    "It would be better in terms of Sharpe ratio than the above secnario.\n",
    "\n",
    "Given the same assumption as above, we have $\\mathbb{E}[\\epsilon_i] = 1.5\\sigma_i$ and $\\sigma_i = 0.1$. \n",
    "\n",
    "Then the whole Sharpe ratio is $$\\mathbb{E}[h'r − 0.01]/\\sqrt{\\mathbb{V}[h'r]} = (\\mathbb{E}[\\epsilon_i] - 0.01)/\\sigma_i) = 1.5 -\\frac{1}{100\\sigma_i} \\approx 1.4 > 0.7$$\n",
    "so It would be better in terms of Sharpe ratio to invest in a single fund with $\\beta = 0$."
   ]
  }
 ],
 "metadata": {
  "kernelspec": {
   "display_name": "Python 3",
   "language": "python",
   "name": "python3"
  },
  "language_info": {
   "codemirror_mode": {
    "name": "ipython",
    "version": 3
   },
   "file_extension": ".py",
   "mimetype": "text/x-python",
   "name": "python",
   "nbconvert_exporter": "python",
   "pygments_lexer": "ipython3",
   "version": "3.6.1"
  }
 },
 "nbformat": 4,
 "nbformat_minor": 2
}
